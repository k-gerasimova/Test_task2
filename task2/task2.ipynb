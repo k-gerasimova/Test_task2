{
 "cells": [
  {
   "cell_type": "code",
   "execution_count": 1,
   "id": "da1a61d4-b876-4b9c-a43e-c1cc60e9ee82",
   "metadata": {},
   "outputs": [],
   "source": [
    "from pyspark.sql.types import StructType, StructField, IntegerType, StringType\n",
    "from pyspark.sql import SparkSession"
   ]
  },
  {
   "cell_type": "code",
   "execution_count": 2,
   "id": "64034506-5e09-430a-9a1f-b2935ecc05b0",
   "metadata": {},
   "outputs": [],
   "source": [
    "from pyspark.sql import SparkSession\n",
    "import os\n",
    "\n",
    "import sys\n",
    "\n",
    "spark_path = \"D:\\spark-3.5.1-bin-hadoop3\"\n",
    "\n",
    "os.environ['SPARK_HOME'] = spark_path\n",
    "os.environ['HADOOP_HOME'] = spark_path\n",
    "\n",
    "sys.path.append(spark_path + \"/bin\")\n",
    "sys.path.append(spark_path + \"/python\")\n",
    "sys.path.append(spark_path + \"/python/pyspark/\")\n",
    "sys.path.append(spark_path + \"/python/lib\")\n",
    "sys.path.append(spark_path + \"/python/lib/pyspark.zip\")\n",
    "sys.path.append(spark_path + \"/python/lib/py4j-0.9-src.zip\")\n",
    "\n",
    "from pyspark import SparkContext\n",
    "from pyspark import SparkConf\n",
    "\n",
    "sc = SparkContext(\"local\", \"test\")"
   ]
  },
  {
   "cell_type": "code",
   "execution_count": 3,
   "id": "ea7d6a36-45d0-4fce-a15b-ee4cb822233d",
   "metadata": {},
   "outputs": [],
   "source": [
    "spark = SparkSession.builder.getOrCreate()"
   ]
  },
  {
   "cell_type": "code",
   "execution_count": 4,
   "id": "6af84ba9-7b7f-4caa-9239-f079f3006555",
   "metadata": {},
   "outputs": [],
   "source": [
    "df_p_c = spark.read.csv('product_category.csv', inferSchema=True).toDF(\"Id\",\"Id_p\", \"Id_c\")\n",
    "df_c = spark.read.csv('category.csv', inferSchema=True).toDF(\"Id\",\"Name\")\n",
    "df_p = spark.read.csv('products.csv', inferSchema=True).toDF(\"Id\",\"Name\",\"Count\")"
   ]
  },
  {
   "cell_type": "code",
   "execution_count": 5,
   "id": "5e1aab3e-6df8-4b81-b01c-2bcda2a5812a",
   "metadata": {},
   "outputs": [
    {
     "name": "stdout",
     "output_type": "stream",
     "text": [
      "+---+------------+-----+\n",
      "| Id|        Name|Count|\n",
      "+---+------------+-----+\n",
      "|  1|      Tomato|    4|\n",
      "|  2|    Cucumber|    3|\n",
      "|  3|      Orange|   10|\n",
      "|  4|      Carrot|    5|\n",
      "|  5|     Cabbage|    2|\n",
      "|  8|mobile phone|    4|\n",
      "|  9|         cup|    7|\n",
      "+---+------------+-----+\n",
      "\n"
     ]
    }
   ],
   "source": [
    "df_p.show()"
   ]
  },
  {
   "cell_type": "code",
   "execution_count": 6,
   "id": "5e22474e-8cc3-4f75-95b7-84eb417427e7",
   "metadata": {},
   "outputs": [
    {
     "name": "stdout",
     "output_type": "stream",
     "text": [
      "+---+----------+\n",
      "| Id|      Name|\n",
      "+---+----------+\n",
      "|  1|Vegetables|\n",
      "|  2|    Fruits|\n",
      "+---+----------+\n",
      "\n"
     ]
    }
   ],
   "source": [
    "df_c.show()"
   ]
  },
  {
   "cell_type": "code",
   "execution_count": 7,
   "id": "ed5db38a-b01b-4673-ad62-21d2ad006679",
   "metadata": {},
   "outputs": [
    {
     "name": "stdout",
     "output_type": "stream",
     "text": [
      "+---+----+----+\n",
      "| Id|Id_p|Id_c|\n",
      "+---+----+----+\n",
      "|  1|   1|   1|\n",
      "|  2|   2|   1|\n",
      "|  3|   4|   1|\n",
      "|  4|   5|   1|\n",
      "|  5|   3|   2|\n",
      "+---+----+----+\n",
      "\n"
     ]
    }
   ],
   "source": [
    "df_p_c.show()"
   ]
  },
  {
   "cell_type": "code",
   "execution_count": 8,
   "id": "8dcb1b6b-2249-4d7e-a016-207d70b81f78",
   "metadata": {},
   "outputs": [],
   "source": [
    "df_p.createOrReplaceTempView(\"products\")\n",
    "df_c.createOrReplaceTempView(\"category\")\n",
    "df_p_c.createOrReplaceTempView(\"product_category\")"
   ]
  },
  {
   "cell_type": "code",
   "execution_count": 9,
   "id": "d9de8bac-01fc-412d-bc8f-4b5bedec0087",
   "metadata": {},
   "outputs": [],
   "source": [
    "def table(df_product, df_category, df_product_category):\n",
    "    df_rez = df_product.join(df_product_category, df_product.Id==df_product_category.Id_p, how=\"left\")\\\n",
    "            .join(df_category, df_product_category.Id_c==df_category.Id, how=\"left\")\\\n",
    "            .select(df_product.Name.alias(\"Product\"), df_category.Name.alias(\"Category\"))\n",
    "    return df_rez"
   ]
  },
  {
   "cell_type": "code",
   "execution_count": 10,
   "id": "066da4e5-315c-45dd-aa8d-74d57d93666a",
   "metadata": {},
   "outputs": [
    {
     "name": "stdout",
     "output_type": "stream",
     "text": [
      "+------------+----------+\n",
      "|     Product|  Category|\n",
      "+------------+----------+\n",
      "|      Tomato|Vegetables|\n",
      "|    Cucumber|Vegetables|\n",
      "|      Orange|    Fruits|\n",
      "|      Carrot|Vegetables|\n",
      "|     Cabbage|Vegetables|\n",
      "|mobile phone|      NULL|\n",
      "|         cup|      NULL|\n",
      "+------------+----------+\n",
      "\n"
     ]
    }
   ],
   "source": [
    "table(df_p, df_c, df_p_c).show()"
   ]
  }
 ],
 "metadata": {
  "kernelspec": {
   "display_name": "Python 3 (ipykernel)",
   "language": "python",
   "name": "python3"
  },
  "language_info": {
   "codemirror_mode": {
    "name": "ipython",
    "version": 3
   },
   "file_extension": ".py",
   "mimetype": "text/x-python",
   "name": "python",
   "nbconvert_exporter": "python",
   "pygments_lexer": "ipython3",
   "version": "3.11.8"
  }
 },
 "nbformat": 4,
 "nbformat_minor": 5
}
